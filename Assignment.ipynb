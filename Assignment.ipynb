{
 "cells": [
  {
   "cell_type": "code",
   "execution_count": 26,
   "metadata": {},
   "outputs": [
    {
     "name": "stdout",
     "output_type": "stream",
     "text": [
      "Reversed String:  esruoC ecneicSataD fo tnemngissa si siht\n"
     ]
    }
   ],
   "source": [
    "#1. code for reversing a string\n",
    "\n",
    "str=\"this is assignment of DataScience Course\"\n",
    "print(\"Reversed String: \",str[::-1])"
   ]
  },
  {
   "cell_type": "code",
   "execution_count": 27,
   "metadata": {},
   "outputs": [
    {
     "name": "stdout",
     "output_type": "stream",
     "text": [
      "number of vowels in a given string:  14\n"
     ]
    }
   ],
   "source": [
    "#2. program to count a number of vowels in a string\n",
    "\n",
    "str=\"this is assignment of DataScience Course\"\n",
    "vowels=\"aeiou\"\n",
    "\n",
    "count=sum(str.count(vowel)for vowel in vowels)\n",
    "\n",
    "print(\"number of vowels in a given string: \",count)"
   ]
  },
  {
   "cell_type": "code",
   "execution_count": 28,
   "metadata": {},
   "outputs": [
    {
     "name": "stdout",
     "output_type": "stream",
     "text": [
      "thie given string is palindrome.\n"
     ]
    }
   ],
   "source": [
    "#3. program to check is  given string a palindrome or not\n",
    "str1=\"nitin\"\n",
    "if str1[0:]==str1[::-1]:\n",
    "    print(\"thie given string is palindrome.\")\n",
    "else:\n",
    "    print(\"not a palindrome string.\")"
   ]
  },
  {
   "cell_type": "code",
   "execution_count": 29,
   "metadata": {},
   "outputs": [
    {
     "name": "stdout",
     "output_type": "stream",
     "text": [
      "given strings are anagram of each other\n"
     ]
    }
   ],
   "source": [
    "#4.  code to check if given two strings are anagram of each other\n",
    "string1=\"silent\"\n",
    "string2=\"listen\"\n",
    "if sorted(string1)== sorted(string2):\n",
    "    print(\"given strings are anagram of each other\")\n",
    "else:\n",
    "    print(\"these are not anagram of each other\")"
   ]
  },
  {
   "cell_type": "code",
   "execution_count": 30,
   "metadata": {},
   "outputs": [
    {
     "name": "stdout",
     "output_type": "stream",
     "text": [
      "thie location of character  a of  gautam in karishma is:  1\n",
      "thie location of character  a of  gautam in karishma is:  1\n"
     ]
    }
   ],
   "source": [
    "#5.  code to find all occurences of a given substring within another string\n",
    "str3=\"karishma\"\n",
    "st=\"gautam\"\n",
    "for i in range(len(str3)-1):\n",
    "    for j in range(len(st)-1):\n",
    "        if str3[i]==st[j]:\n",
    "            print(\"thie location of character \",st[j],\"of \",st, \"in\",str3,\"is: \",i)"
   ]
  },
  {
   "cell_type": "code",
   "execution_count": 60,
   "metadata": {},
   "outputs": [
    {
     "name": "stdout",
     "output_type": "stream",
     "text": [
      "unique\n"
     ]
    }
   ],
   "source": [
    "#7. code to determine if a string has all unique characters\n",
    "st=input(\"enter the string: \")\n",
    "st=sorted(st)\n",
    "\n",
    "for i in range(len(st)-1):\n",
    "    if st[i]==st[i+1]:\n",
    "        print(\"duplicate\")\n",
    "        break\n",
    "    else:\n",
    "        print(\"unique\")\n",
    "        break\n",
    "              "
   ]
  },
  {
   "cell_type": "code",
   "execution_count": 58,
   "metadata": {},
   "outputs": [
    {
     "name": "stdout",
     "output_type": "stream",
     "text": [
      "{'a': 4, 'b': 4, 'c': 5, 'f': 1}\n"
     ]
    }
   ],
   "source": [
    "#6.  code to perform string compression using the counts of repeated characters\n",
    "s1=\"abcbcacabcfbca\"\n",
    "s2={}\n",
    "for i in s1:\n",
    "     s2[i]=s1.count(i)\n",
    "print(s2)"
   ]
  },
  {
   "cell_type": "code",
   "execution_count": 33,
   "metadata": {},
   "outputs": [
    {
     "data": {
      "text/plain": [
       "'kArIsHmA'"
      ]
     },
     "execution_count": 33,
     "metadata": {},
     "output_type": "execute_result"
    }
   ],
   "source": [
    "#8.  code to convert a given string to uppercase or lowercase\n",
    "s=\"KaRiShMa\"\n",
    "s.swapcase()"
   ]
  },
  {
   "cell_type": "code",
   "execution_count": 1,
   "metadata": {},
   "outputs": [
    {
     "name": "stdout",
     "output_type": "stream",
     "text": [
      "no. of words in a string are:  32\n"
     ]
    }
   ],
   "source": [
    "#9. code to count no.of words in a string\n",
    "string=\"I m currently working in visual basics \"\n",
    "count=0\n",
    "for i in range(len(string)):\n",
    "    if string[i]!=\" \":\n",
    "        count=count+1\n",
    "print(\"no. of words in a string are: \",count)        "
   ]
  },
  {
   "cell_type": "code",
   "execution_count": 53,
   "metadata": {},
   "outputs": [
    {
     "name": "stdout",
     "output_type": "stream",
     "text": [
      "karishma saxena\n"
     ]
    }
   ],
   "source": [
    "#10.  code to concatinate two string without using + operator\n",
    "s1=\"karishma\"\n",
    "s2=\"saxena\"\n",
    "k=\"\".join([s1,\" \",s2])\n",
    "print(k)"
   ]
  },
  {
   "cell_type": "code",
   "execution_count": 11,
   "metadata": {},
   "outputs": [
    {
     "name": "stdout",
     "output_type": "stream",
     "text": [
      "[3, 4, 2, 14, 3, 15, 5]\n"
     ]
    }
   ],
   "source": [
    "#11. code to remove all occurerences of a spcific element from a list\n",
    "list=[1,3,4,1,2,14,3,15,5]\n",
    "for i in list:\n",
    "    if i==1:\n",
    "        list.remove(1) \n",
    "print(list)             "
   ]
  },
  {
   "cell_type": "code",
   "execution_count": 90,
   "metadata": {},
   "outputs": [
    {
     "name": "stdout",
     "output_type": "stream",
     "text": [
      "2\n",
      "1\n",
      "1\n",
      "2\n",
      "1\n",
      "1\n",
      "2\n",
      "2\n"
     ]
    }
   ],
   "source": [
    "# 12. implement a code to find the second largest no. of a given list of integers\n",
    "lis=[1,3,4,1,2,14,15,15]\n",
    "\n",
    "for i in lis:\n",
    "    print(lis.count(i))\n"
   ]
  },
  {
   "cell_type": "code",
   "execution_count": 48,
   "metadata": {},
   "outputs": [
    {
     "name": "stdout",
     "output_type": "stream",
     "text": [
      "dictionary of frequency of numbers=  {2: 2, 3: 1, 4: 2, 1: 3}\n"
     ]
    }
   ],
   "source": [
    "#13. create a code to count occurence of each element in a list and return a dictionary with elements keys and their counts as values\n",
    "list=[2,3,4,1,2,1,1,4]\n",
    "freq = {}\n",
    "for items in list:\n",
    "        freq[items] = list.count(items)\n",
    "print( \"dictionary of frequency of numbers= \",freq) "
   ]
  },
  {
   "cell_type": "code",
   "execution_count": 28,
   "metadata": {},
   "outputs": [],
   "source": [
    "# 15.implement a code to find and remove duplicates from a list while preserving the original order of elements\n",
    "list=[2,3,4,1,2,1,1,4]\n",
    "i=0\n",
    "j=1\n",
    "while i in list:\n",
    "    while j in list:\n",
    "        if i ==j:\n",
    "            print(i)\n",
    "            i=i+1\n",
    "            j=j+1"
   ]
  },
  {
   "cell_type": "code",
   "execution_count": 101,
   "metadata": {},
   "outputs": [
    {
     "name": "stdout",
     "output_type": "stream",
     "text": [
      "sorted\n"
     ]
    }
   ],
   "source": [
    "# 16. create a code to check if a given list is sorted or not.\n",
    "list=[2,3,4,11,22,24,41,44]\n",
    "for i in list:\n",
    "    if list[i]>list[i+1]:\n",
    "        print(\"not sorted\")\n",
    "        break\n",
    "    else:\n",
    "        print(\"sorted\")\n",
    "        break"
   ]
  },
  {
   "cell_type": "code",
   "execution_count": 116,
   "metadata": {},
   "outputs": [
    {
     "name": "stdout",
     "output_type": "stream",
     "text": [
      "[0, 3, 4, 7, 8, 9, 11, 15, 21, 26, 31, 42, 67]\n"
     ]
    }
   ],
   "source": [
    "# 17 write a code to merge two sorted sorted list into a single sorted list\n",
    "l1=[3,42,26,7,11,8,9]\n",
    "l2=[21,31,15,67,0,4]\n",
    "l3=l1+l2\n",
    "print(sorted(l3))"
   ]
  },
  {
   "cell_type": "code",
   "execution_count": 10,
   "metadata": {},
   "outputs": [
    {
     "name": "stdout",
     "output_type": "stream",
     "text": [
      "intersection of lists l1 and l2 : [31, 21, 7]\n"
     ]
    }
   ],
   "source": [
    "# 18. implement a code to find the intersection of two given lists.\n",
    "l1=[3,21,26,7,31,8,9]\n",
    "l2=[21,31,15,7,0,4]\n",
    "s1=set(l1)\n",
    "s2=set(l2)\n",
    "l3=list(s1&s2)\n",
    "print(\"intersection of lists l1 and l2 :\",l3)"
   ]
  },
  {
   "cell_type": "code",
   "execution_count": 11,
   "metadata": {},
   "outputs": [
    {
     "name": "stdout",
     "output_type": "stream",
     "text": [
      "union of lists l1 and l2 is: [0, 3, 4, 7, 8, 9, 15, 21, 26, 31]\n"
     ]
    }
   ],
   "source": [
    "# 18. implement a code to find the union of two given lists without duplicates.\n",
    "l1=[3,21,26,7,31,8,9]\n",
    "l2=[21,31,15,7,0,4]\n",
    "s1=set(l1)\n",
    "s2=set(l2)\n",
    "l3=list(s1|s2)\n",
    "print(\"union of lists l1 and l2 is:\",l3)"
   ]
  },
  {
   "cell_type": "code",
   "execution_count": 29,
   "metadata": {},
   "outputs": [
    {
     "name": "stdout",
     "output_type": "stream",
     "text": [
      "{1}\n"
     ]
    }
   ],
   "source": [
    "#21. write a code that takes two tuple as input and returns a new tuple containing elements that are common to both input tuples.\n",
    "def commonElements(t1 ,t2):\n",
    "    t1 = sorted(t1)\n",
    "    t2 = sorted(t2)\n",
    "    t3 = set([])\n",
    "    for i in t1:\n",
    "        for j in t2:\n",
    "            if i == j:\n",
    "               t3.add(i)\n",
    "        return t3\n",
    "print (commonElements((1, 2, 3), (2, 5, 1)))\n"
   ]
  }
 ],
 "metadata": {
  "kernelspec": {
   "display_name": "Python 3",
   "language": "python",
   "name": "python3"
  },
  "language_info": {
   "codemirror_mode": {
    "name": "ipython",
    "version": 3
   },
   "file_extension": ".py",
   "mimetype": "text/x-python",
   "name": "python",
   "nbconvert_exporter": "python",
   "pygments_lexer": "ipython3",
   "version": "3.12.2"
  }
 },
 "nbformat": 4,
 "nbformat_minor": 2
}
